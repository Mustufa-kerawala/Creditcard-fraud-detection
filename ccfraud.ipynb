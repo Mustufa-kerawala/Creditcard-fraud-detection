{
 "cells": [
  {
   "cell_type": "code",
   "execution_count": 14,
   "metadata": {
    "colab": {},
    "colab_type": "code",
    "id": "VSb24ABOfrag"
   },
   "outputs": [],
   "source": [
    "import numpy as np\n",
    "import sklearn as sk\n",
    "import pandas as pd \n",
    "import matplotlib.pyplot as plt\n",
    "import seaborn as sns\n",
    "from sklearn.preprocessing import scale\n",
    "import random\n",
    "%matplotlib inline\n",
    "from sklearn import datasets\n",
    "\n"
   ]
  },
  {
   "cell_type": "code",
   "execution_count": 4,
   "metadata": {
    "colab": {},
    "colab_type": "code",
    "id": "n0Xem5M_f_gB"
   },
   "outputs": [
    {
     "data": {
      "text/html": [
       "<div>\n",
       "<style scoped>\n",
       "    .dataframe tbody tr th:only-of-type {\n",
       "        vertical-align: middle;\n",
       "    }\n",
       "\n",
       "    .dataframe tbody tr th {\n",
       "        vertical-align: top;\n",
       "    }\n",
       "\n",
       "    .dataframe thead th {\n",
       "        text-align: right;\n",
       "    }\n",
       "</style>\n",
       "<table border=\"1\" class=\"dataframe\">\n",
       "  <thead>\n",
       "    <tr style=\"text-align: right;\">\n",
       "      <th></th>\n",
       "      <th>Time</th>\n",
       "      <th>V1</th>\n",
       "      <th>V2</th>\n",
       "      <th>V3</th>\n",
       "      <th>V4</th>\n",
       "      <th>V5</th>\n",
       "      <th>V6</th>\n",
       "      <th>V7</th>\n",
       "      <th>V8</th>\n",
       "      <th>V9</th>\n",
       "      <th>...</th>\n",
       "      <th>V21</th>\n",
       "      <th>V22</th>\n",
       "      <th>V23</th>\n",
       "      <th>V24</th>\n",
       "      <th>V25</th>\n",
       "      <th>V26</th>\n",
       "      <th>V27</th>\n",
       "      <th>V28</th>\n",
       "      <th>Amount</th>\n",
       "      <th>Class</th>\n",
       "    </tr>\n",
       "  </thead>\n",
       "  <tbody>\n",
       "    <tr>\n",
       "      <td>0</td>\n",
       "      <td>55797.0</td>\n",
       "      <td>-1.107345</td>\n",
       "      <td>0.367336</td>\n",
       "      <td>2.480637</td>\n",
       "      <td>2.890058</td>\n",
       "      <td>0.625870</td>\n",
       "      <td>1.302663</td>\n",
       "      <td>-0.388341</td>\n",
       "      <td>0.404049</td>\n",
       "      <td>-0.926287</td>\n",
       "      <td>...</td>\n",
       "      <td>-0.118306</td>\n",
       "      <td>-0.192741</td>\n",
       "      <td>-0.283377</td>\n",
       "      <td>-0.669556</td>\n",
       "      <td>0.175871</td>\n",
       "      <td>0.226846</td>\n",
       "      <td>-0.006618</td>\n",
       "      <td>0.156385</td>\n",
       "      <td>37.27</td>\n",
       "      <td>0</td>\n",
       "    </tr>\n",
       "    <tr>\n",
       "      <td>1</td>\n",
       "      <td>37258.0</td>\n",
       "      <td>-1.442560</td>\n",
       "      <td>1.398568</td>\n",
       "      <td>1.062191</td>\n",
       "      <td>-0.113986</td>\n",
       "      <td>0.098310</td>\n",
       "      <td>0.295054</td>\n",
       "      <td>0.237661</td>\n",
       "      <td>-2.295535</td>\n",
       "      <td>-0.576234</td>\n",
       "      <td>...</td>\n",
       "      <td>2.464967</td>\n",
       "      <td>-0.147299</td>\n",
       "      <td>0.124204</td>\n",
       "      <td>0.190213</td>\n",
       "      <td>-0.045854</td>\n",
       "      <td>-0.507289</td>\n",
       "      <td>0.335387</td>\n",
       "      <td>0.102170</td>\n",
       "      <td>71.99</td>\n",
       "      <td>0</td>\n",
       "    </tr>\n",
       "    <tr>\n",
       "      <td>2</td>\n",
       "      <td>148677.0</td>\n",
       "      <td>2.057013</td>\n",
       "      <td>-0.315957</td>\n",
       "      <td>-2.789351</td>\n",
       "      <td>-0.775407</td>\n",
       "      <td>2.497459</td>\n",
       "      <td>3.164336</td>\n",
       "      <td>-0.396948</td>\n",
       "      <td>0.715272</td>\n",
       "      <td>0.448163</td>\n",
       "      <td>...</td>\n",
       "      <td>0.243465</td>\n",
       "      <td>0.744133</td>\n",
       "      <td>0.038125</td>\n",
       "      <td>0.737510</td>\n",
       "      <td>0.303059</td>\n",
       "      <td>-0.087826</td>\n",
       "      <td>-0.001087</td>\n",
       "      <td>-0.065006</td>\n",
       "      <td>3.50</td>\n",
       "      <td>0</td>\n",
       "    </tr>\n",
       "    <tr>\n",
       "      <td>3</td>\n",
       "      <td>87150.0</td>\n",
       "      <td>-0.007374</td>\n",
       "      <td>0.692235</td>\n",
       "      <td>0.317161</td>\n",
       "      <td>-0.662044</td>\n",
       "      <td>0.264434</td>\n",
       "      <td>-0.894766</td>\n",
       "      <td>0.795858</td>\n",
       "      <td>0.031208</td>\n",
       "      <td>-0.050025</td>\n",
       "      <td>...</td>\n",
       "      <td>-0.222228</td>\n",
       "      <td>-0.582693</td>\n",
       "      <td>0.090414</td>\n",
       "      <td>0.023392</td>\n",
       "      <td>-0.589852</td>\n",
       "      <td>0.120801</td>\n",
       "      <td>0.232080</td>\n",
       "      <td>0.084524</td>\n",
       "      <td>3.57</td>\n",
       "      <td>0</td>\n",
       "    </tr>\n",
       "    <tr>\n",
       "      <td>4</td>\n",
       "      <td>81853.0</td>\n",
       "      <td>1.256653</td>\n",
       "      <td>0.138079</td>\n",
       "      <td>0.069747</td>\n",
       "      <td>0.094839</td>\n",
       "      <td>-0.352195</td>\n",
       "      <td>-1.308192</td>\n",
       "      <td>0.353293</td>\n",
       "      <td>-0.326797</td>\n",
       "      <td>-0.081518</td>\n",
       "      <td>...</td>\n",
       "      <td>-0.429359</td>\n",
       "      <td>-1.338348</td>\n",
       "      <td>0.188336</td>\n",
       "      <td>0.409202</td>\n",
       "      <td>0.094498</td>\n",
       "      <td>0.619344</td>\n",
       "      <td>-0.104868</td>\n",
       "      <td>0.007905</td>\n",
       "      <td>30.00</td>\n",
       "      <td>0</td>\n",
       "    </tr>\n",
       "  </tbody>\n",
       "</table>\n",
       "<p>5 rows × 31 columns</p>\n",
       "</div>"
      ],
      "text/plain": [
       "       Time        V1        V2        V3        V4        V5        V6  \\\n",
       "0   55797.0 -1.107345  0.367336  2.480637  2.890058  0.625870  1.302663   \n",
       "1   37258.0 -1.442560  1.398568  1.062191 -0.113986  0.098310  0.295054   \n",
       "2  148677.0  2.057013 -0.315957 -2.789351 -0.775407  2.497459  3.164336   \n",
       "3   87150.0 -0.007374  0.692235  0.317161 -0.662044  0.264434 -0.894766   \n",
       "4   81853.0  1.256653  0.138079  0.069747  0.094839 -0.352195 -1.308192   \n",
       "\n",
       "         V7        V8        V9  ...       V21       V22       V23       V24  \\\n",
       "0 -0.388341  0.404049 -0.926287  ... -0.118306 -0.192741 -0.283377 -0.669556   \n",
       "1  0.237661 -2.295535 -0.576234  ...  2.464967 -0.147299  0.124204  0.190213   \n",
       "2 -0.396948  0.715272  0.448163  ...  0.243465  0.744133  0.038125  0.737510   \n",
       "3  0.795858  0.031208 -0.050025  ... -0.222228 -0.582693  0.090414  0.023392   \n",
       "4  0.353293 -0.326797 -0.081518  ... -0.429359 -1.338348  0.188336  0.409202   \n",
       "\n",
       "        V25       V26       V27       V28  Amount  Class  \n",
       "0  0.175871  0.226846 -0.006618  0.156385   37.27      0  \n",
       "1 -0.045854 -0.507289  0.335387  0.102170   71.99      0  \n",
       "2  0.303059 -0.087826 -0.001087 -0.065006    3.50      0  \n",
       "3 -0.589852  0.120801  0.232080  0.084524    3.57      0  \n",
       "4  0.094498  0.619344 -0.104868  0.007905   30.00      0  \n",
       "\n",
       "[5 rows x 31 columns]"
      ]
     },
     "execution_count": 4,
     "metadata": {},
     "output_type": "execute_result"
    }
   ],
   "source": [
    "df = pd.read_csv('creditcard.csv', low_memory=False)\n",
    "df = df.sample(frac=1).reset_index(drop=True)\n",
    "df.head()"
   ]
  },
  {
   "cell_type": "code",
   "execution_count": 5,
   "metadata": {
    "colab": {},
    "colab_type": "code",
    "id": "o2PErycoTirZ"
   },
   "outputs": [
    {
     "name": "stdout",
     "output_type": "stream",
     "text": [
      "492\n",
      "284315\n"
     ]
    }
   ],
   "source": [
    "fraud = df.loc[df['Class'] == 1]\n",
    "non_fraud = df.loc[df['Class'] == 0]\n",
    "print(len(fraud))\n",
    "print(len(non_fraud))"
   ]
  },
  {
   "cell_type": "code",
   "execution_count": 6,
   "metadata": {},
   "outputs": [
    {
     "name": "stdout",
     "output_type": "stream",
     "text": [
      "<class 'pandas.core.frame.DataFrame'>\n",
      "RangeIndex: 284807 entries, 0 to 284806\n",
      "Data columns (total 31 columns):\n",
      "Time      284807 non-null float64\n",
      "V1        284807 non-null float64\n",
      "V2        284807 non-null float64\n",
      "V3        284807 non-null float64\n",
      "V4        284807 non-null float64\n",
      "V5        284807 non-null float64\n",
      "V6        284807 non-null float64\n",
      "V7        284807 non-null float64\n",
      "V8        284807 non-null float64\n",
      "V9        284807 non-null float64\n",
      "V10       284807 non-null float64\n",
      "V11       284807 non-null float64\n",
      "V12       284807 non-null float64\n",
      "V13       284807 non-null float64\n",
      "V14       284807 non-null float64\n",
      "V15       284807 non-null float64\n",
      "V16       284807 non-null float64\n",
      "V17       284807 non-null float64\n",
      "V18       284807 non-null float64\n",
      "V19       284807 non-null float64\n",
      "V20       284807 non-null float64\n",
      "V21       284807 non-null float64\n",
      "V22       284807 non-null float64\n",
      "V23       284807 non-null float64\n",
      "V24       284807 non-null float64\n",
      "V25       284807 non-null float64\n",
      "V26       284807 non-null float64\n",
      "V27       284807 non-null float64\n",
      "V28       284807 non-null float64\n",
      "Amount    284807 non-null float64\n",
      "Class     284807 non-null int64\n",
      "dtypes: float64(30), int64(1)\n",
      "memory usage: 67.4 MB\n",
      "None\n",
      "                Time            V1            V2            V3            V4  \\\n",
      "count  284807.000000  2.848070e+05  2.848070e+05  2.848070e+05  2.848070e+05   \n",
      "mean    94813.859575  1.177955e-15  3.378737e-16 -1.400992e-15  2.095650e-15   \n",
      "std     47488.145955  1.958696e+00  1.651309e+00  1.516255e+00  1.415869e+00   \n",
      "min         0.000000 -5.640751e+01 -7.271573e+01 -4.832559e+01 -5.683171e+00   \n",
      "25%     54201.500000 -9.203734e-01 -5.985499e-01 -8.903648e-01 -8.486401e-01   \n",
      "50%     84692.000000  1.810880e-02  6.548556e-02  1.798463e-01 -1.984653e-02   \n",
      "75%    139320.500000  1.315642e+00  8.037239e-01  1.027196e+00  7.433413e-01   \n",
      "max    172792.000000  2.454930e+00  2.205773e+01  9.382558e+00  1.687534e+01   \n",
      "\n",
      "                 V5            V6            V7            V8            V9  \\\n",
      "count  2.848070e+05  2.848070e+05  2.848070e+05  2.848070e+05  2.848070e+05   \n",
      "mean   1.006910e-15  1.495446e-15 -5.633807e-16  1.155601e-16 -2.412243e-15   \n",
      "std    1.380247e+00  1.332271e+00  1.237094e+00  1.194353e+00  1.098632e+00   \n",
      "min   -1.137433e+02 -2.616051e+01 -4.355724e+01 -7.321672e+01 -1.343407e+01   \n",
      "25%   -6.915971e-01 -7.682956e-01 -5.540759e-01 -2.086297e-01 -6.430976e-01   \n",
      "50%   -5.433583e-02 -2.741871e-01  4.010308e-02  2.235804e-02 -5.142873e-02   \n",
      "75%    6.119264e-01  3.985649e-01  5.704361e-01  3.273459e-01  5.971390e-01   \n",
      "max    3.480167e+01  7.330163e+01  1.205895e+02  2.000721e+01  1.559499e+01   \n",
      "\n",
      "       ...           V21           V22           V23           V24  \\\n",
      "count  ...  2.848070e+05  2.848070e+05  2.848070e+05  2.848070e+05   \n",
      "mean   ...  1.611655e-16 -3.506971e-16  2.632786e-16  4.473315e-15   \n",
      "std    ...  7.345240e-01  7.257016e-01  6.244603e-01  6.056471e-01   \n",
      "min    ... -3.483038e+01 -1.093314e+01 -4.480774e+01 -2.836627e+00   \n",
      "25%    ... -2.283949e-01 -5.423504e-01 -1.618463e-01 -3.545861e-01   \n",
      "50%    ... -2.945017e-02  6.781943e-03 -1.119293e-02  4.097606e-02   \n",
      "75%    ...  1.863772e-01  5.285536e-01  1.476421e-01  4.395266e-01   \n",
      "max    ...  2.720284e+01  1.050309e+01  2.252841e+01  4.584549e+00   \n",
      "\n",
      "                V25           V26           V27           V28         Amount  \\\n",
      "count  2.848070e+05  2.848070e+05  2.848070e+05  2.848070e+05  284807.000000   \n",
      "mean   5.142327e-16  1.685464e-15 -3.660652e-16 -1.219843e-16      88.349619   \n",
      "std    5.212781e-01  4.822270e-01  4.036325e-01  3.300833e-01     250.120109   \n",
      "min   -1.029540e+01 -2.604551e+00 -2.256568e+01 -1.543008e+01       0.000000   \n",
      "25%   -3.171451e-01 -3.269839e-01 -7.083953e-02 -5.295979e-02       5.600000   \n",
      "50%    1.659350e-02 -5.213911e-02  1.342146e-03  1.124383e-02      22.000000   \n",
      "75%    3.507156e-01  2.409522e-01  9.104512e-02  7.827995e-02      77.165000   \n",
      "max    7.519589e+00  3.517346e+00  3.161220e+01  3.384781e+01   25691.160000   \n",
      "\n",
      "               Class  \n",
      "count  284807.000000  \n",
      "mean        0.001727  \n",
      "std         0.041527  \n",
      "min         0.000000  \n",
      "25%         0.000000  \n",
      "50%         0.000000  \n",
      "75%         0.000000  \n",
      "max         1.000000  \n",
      "\n",
      "[8 rows x 31 columns]\n"
     ]
    }
   ],
   "source": [
    "#Exploratory data analysis\n",
    "print(df.info())\n",
    "print(df.describe())"
   ]
  },
  {
   "cell_type": "code",
   "execution_count": 13,
   "metadata": {
    "colab": {
     "base_uri": "https://localhost:8080/",
     "height": 130
    },
    "colab_type": "code",
    "id": "ZIa-dVKhUXbx",
    "outputId": "00628dac-8b7b-494f-ff86-66ba5effe0b5"
   },
   "outputs": [
    {
     "data": {
      "text/plain": [
       "<matplotlib.axes._subplots.AxesSubplot at 0x115063a10>"
      ]
     },
     "execution_count": 13,
     "metadata": {},
     "output_type": "execute_result"
    },
    {
     "data": {
      "image/png": "[encoded data removed]",
      "text/plain": [
       "<Figure size 432x288 with 1 Axes>"
      ]
     },
     "metadata": {
      "needs_background": "light"
     },
     "output_type": "display_data"
    }
   ],
   "source": [
    "#visualize\n",
    "sns.scatterplot(x='Class', y='Amount', data=df)"
   ]
  },
  {
   "cell_type": "markdown",
   "metadata": {
    "colab_type": "text",
    "id": "uiDizrNpCwCs"
   },
   "source": [
    "# **Fraud detection\n",
    "\n",
    "\n",
    "*   Explore the data set/ visualize \n",
    "*  Decide which features are important\n",
    "*   Perform machine learning\n",
    "*  Test the model on the testing set.\n",
    "\n",
    "\n",
    "\n",
    "\n",
    "\n"
   ]
  },
  {
   "cell_type": "code",
   "execution_count": 19,
   "metadata": {
    "colab": {},
    "colab_type": "code",
    "id": "DR4UdYIoWV-K"
   },
   "outputs": [],
   "source": [
    "#Time to write the model\n",
    "\n",
    "from sklearn import linear_model\n",
    "from sklearn.model_selection import train_test_split"
   ]
  },
  {
   "cell_type": "code",
   "execution_count": 20,
   "metadata": {
    "colab": {},
    "colab_type": "code",
    "id": "ydf0Td6Meufa"
   },
   "outputs": [],
   "source": [
    "x = df.iloc [:, :-1]\n",
    "y = df['Class']\n",
    "\n",
    "X_train, X_test, Y_train, Y_test = train_test_split(x, y, test_size=0.25)\n",
    "\n"
   ]
  },
  {
   "cell_type": "code",
   "execution_count": 21,
   "metadata": {
    "colab": {},
    "colab_type": "code",
    "id": "87OPxDbShsiz"
   },
   "outputs": [
    {
     "name": "stderr",
     "output_type": "stream",
     "text": [
      "/Library/Frameworks/Python.framework/Versions/3.7/lib/python3.7/site-packages/sklearn/linear_model/logistic.py:432: FutureWarning: Default solver will be changed to 'lbfgs' in 0.22. Specify a solver to silence this warning.\n",
      "  FutureWarning)\n"
     ]
    },
    {
     "name": "stdout",
     "output_type": "stream",
     "text": [
      "Score: <bound method ClassifierMixin.score of LogisticRegression(C=100000.0, class_weight=None, dual=False,\n",
      "                   fit_intercept=True, intercept_scaling=1, l1_ratio=None,\n",
      "                   max_iter=100, multi_class='warn', n_jobs=None, penalty='l2',\n",
      "                   random_state=None, solver='warn', tol=0.0001, verbose=0,\n",
      "                   warm_start=False)> (            Time        V1        V2        V3        V4        V5        V6  \\\n",
      "218239   99472.0 -0.551488  1.391582  0.863777  1.278519 -0.549607  1.421379   \n",
      "130881   39860.0  1.326913 -0.601837  0.159064 -0.471879 -0.929957 -0.832374   \n",
      "141415  133614.0  1.869913 -0.573923 -0.413813  1.268083 -0.659919  0.135353   \n",
      "100372   21068.0  1.162263 -0.368350  1.132327 -0.478254 -1.189775 -0.509490   \n",
      "48711    65889.0 -0.470041  0.984112  1.666275 -0.097331 -0.137320 -0.695411   \n",
      "...          ...       ...       ...       ...       ...       ...       ...   \n",
      "158469   54563.0 -0.887092  0.706838  1.732832 -1.310538  0.021980 -1.095663   \n",
      "231670   72471.0 -1.194792  0.665844  1.699587  0.282377  0.220072 -0.247892   \n",
      "226523  121912.0  1.784138 -1.357231 -1.400376 -0.592069 -0.791175 -1.111950   \n",
      "149352    2204.0 -0.528280  1.297138  1.497918  1.128073  1.015072  0.182683   \n",
      "240719  139579.0 -0.570442  1.137299 -0.601386 -0.458304  0.593223 -0.507870   \n",
      "\n",
      "              V7        V8        V9  ...       V20       V21       V22  \\\n",
      "218239 -2.499969 -5.075481  0.665922  ...  1.192617 -2.841788  0.111134   \n",
      "130881 -0.395820 -0.120168 -0.620950  ... -0.033071  0.196740  0.566441   \n",
      "141415 -0.813531  0.330626  1.321840  ... -0.387966  0.248050  0.722122   \n",
      "100372 -0.776133  0.046649  3.200334  ... -0.240564 -0.116438  0.131110   \n",
      "48711   0.590764  0.081755 -0.630889  ...  0.085281 -0.165743 -0.465288   \n",
      "...          ...       ...       ...  ...       ...       ...       ...   \n",
      "158469  0.823058 -0.285654  0.262424  ...  0.282411 -0.157042 -0.151964   \n",
      "231670  0.360396  0.143145 -0.611726  ... -0.049446 -0.165654 -0.269940   \n",
      "226523  0.007643 -0.431417 -0.437375  ...  0.405020  0.109809 -0.068830   \n",
      "149352  1.317492 -0.331670 -1.169024  ... -0.009357 -0.056918 -0.080751   \n",
      "240719  0.980228  0.359346 -0.514617  ... -0.051681  0.163359  0.487744   \n",
      "\n",
      "             V23       V24       V25       V26       V27       V28  Amount  \n",
      "218239  0.164364 -0.491455  0.498259 -0.708290  0.098982  0.276324   25.00  \n",
      "130881 -0.095551  0.435783  0.629827 -0.054090 -0.002612  0.004386   27.00  \n",
      "141415  0.043755 -0.547640 -0.093221 -0.467629  0.034610 -0.049137   33.95  \n",
      "100372  0.045941  0.341797  0.329679 -0.714150  0.076538  0.028943   11.85  \n",
      "48711  -0.005921  0.509409 -0.259969  0.041951  0.260073  0.112337    2.99  \n",
      "...          ...       ...       ...       ...       ...       ...     ...  \n",
      "158469 -0.046142  0.435569 -0.284301  0.694814  0.200106  0.038361   21.62  \n",
      "231670  0.323357  0.206131 -0.274755  0.187037  0.148472  0.097122    1.79  \n",
      "226523  0.040252  0.016003 -0.150967 -0.349168 -0.065569 -0.022584  226.80  \n",
      "149352 -0.286461 -0.652466 -0.042145 -0.245139 -0.188071 -0.102000   39.05  \n",
      "240719 -0.092854  0.766815 -0.065340 -0.268976  0.258155  0.176732   39.98  \n",
      "\n",
      "[71202 rows x 30 columns], 218239    0\n",
      "130881    0\n",
      "141415    0\n",
      "100372    0\n",
      "48711     0\n",
      "         ..\n",
      "158469    0\n",
      "231670    0\n",
      "226523    0\n",
      "149352    0\n",
      "240719    0\n",
      "Name: Class, Length: 71202, dtype: int64)\n"
     ]
    }
   ],
   "source": [
    "logistic = linear_model.LogisticRegression(C=1e5)\n",
    "logistic.fit(X_train, Y_train)\n",
    "print('Score:', logistic.score, (X_test, Y_test))"
   ]
  },
  {
   "cell_type": "code",
   "execution_count": 23,
   "metadata": {
    "colab": {
     "base_uri": "https://localhost:8080/",
     "height": 34
    },
    "colab_type": "code",
    "id": "swMPpt84im9h",
    "outputId": "883d3953-bafc-46c2-c6e0-c915db072cf4"
   },
   "outputs": [
    {
     "name": "stdout",
     "output_type": "stream",
     "text": [
      "[0 0 0 ... 0 0 0]\n"
     ]
    }
   ],
   "source": [
    "Y_prediction = np.array(logistic.predict(X_test))\n",
    "print(Y_prediction)"
   ]
  },
  {
   "cell_type": "code",
   "execution_count": 24,
   "metadata": {
    "colab": {
     "base_uri": "https://localhost:8080/",
     "height": 34
    },
    "colab_type": "code",
    "id": "Tz7lGXaEkSBQ",
    "outputId": "20cbf2f0-30a9-484c-dcca-5b7091b1f0d2"
   },
   "outputs": [
    {
     "data": {
      "text/plain": [
       "0.9988904806044774"
      ]
     },
     "execution_count": 24,
     "metadata": {},
     "output_type": "execute_result"
    }
   ],
   "source": [
    "from sklearn.metrics import accuracy_score\n",
    "y_predict = logistic.predict(X_test)\n",
    "accuracy_score(y_predict, Y_test)"
   ]
  },
  {
   "cell_type": "code",
   "execution_count": 0,
   "metadata": {
    "colab": {},
    "colab_type": "code",
    "id": "nz9jqaeNcd1I"
   },
   "outputs": [],
   "source": [
    "#Model is overfit need more work"
   ]
  }
 ],
 "metadata": {
  "colab": {
   "name": "Wk3hw_Fraud_detection.ipynb",
   "provenance": [],
   "version": "0.3.2"
  },
  "kernelspec": {
   "display_name": "Python 3",
   "language": "python",
   "name": "python3"
  },
  "language_info": {
   "codemirror_mode": {
    "name": "ipython",
    "version": 3
   },
   "file_extension": ".py",
   "mimetype": "text/x-python",
   "name": "python",
   "nbconvert_exporter": "python",
   "pygments_lexer": "ipython3",
   "version": "3.7.4"
  }
 },
 "nbformat": 4,
 "nbformat_minor": 1
}
