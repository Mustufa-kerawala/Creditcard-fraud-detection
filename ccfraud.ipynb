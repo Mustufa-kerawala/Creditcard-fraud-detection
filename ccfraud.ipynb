{
 "cells": [
  {
   "cell_type": "code",
   "execution_count": 12,
   "metadata": {
    "colab": {},
    "colab_type": "code",
    "id": "VSb24ABOfrag"
   },
   "outputs": [],
   "source": [
    "import numpy as np\n",
    "import sklearn as sk\n",
    "import pandas as pd \n",
    "import matplotlib.pyplot as plt\n",
    "import seaborn as sns\n",
    "from sklearn.preprocessing import scale\n",
    "import random\n",
    "\n",
    "\n"
   ]
  },
  {
   "cell_type": "code",
   "execution_count": 5,
   "metadata": {
    "colab": {},
    "colab_type": "code",
    "id": "n0Xem5M_f_gB"
   },
   "outputs": [
    {
     "data": {
      "text/html": [
       "<div>\n",
       "<style scoped>\n",
       "    .dataframe tbody tr th:only-of-type {\n",
       "        vertical-align: middle;\n",
       "    }\n",
       "\n",
       "    .dataframe tbody tr th {\n",
       "        vertical-align: top;\n",
       "    }\n",
       "\n",
       "    .dataframe thead th {\n",
       "        text-align: right;\n",
       "    }\n",
       "</style>\n",
       "<table border=\"1\" class=\"dataframe\">\n",
       "  <thead>\n",
       "    <tr style=\"text-align: right;\">\n",
       "      <th></th>\n",
       "      <th>Time</th>\n",
       "      <th>V1</th>\n",
       "      <th>V2</th>\n",
       "      <th>V3</th>\n",
       "      <th>V4</th>\n",
       "      <th>V5</th>\n",
       "      <th>V6</th>\n",
       "      <th>V7</th>\n",
       "      <th>V8</th>\n",
       "      <th>V9</th>\n",
       "      <th>...</th>\n",
       "      <th>V21</th>\n",
       "      <th>V22</th>\n",
       "      <th>V23</th>\n",
       "      <th>V24</th>\n",
       "      <th>V25</th>\n",
       "      <th>V26</th>\n",
       "      <th>V27</th>\n",
       "      <th>V28</th>\n",
       "      <th>Amount</th>\n",
       "      <th>Class</th>\n",
       "    </tr>\n",
       "  </thead>\n",
       "  <tbody>\n",
       "    <tr>\n",
       "      <td>0</td>\n",
       "      <td>53827.0</td>\n",
       "      <td>1.325449</td>\n",
       "      <td>-0.096853</td>\n",
       "      <td>0.136428</td>\n",
       "      <td>-0.454659</td>\n",
       "      <td>-0.155413</td>\n",
       "      <td>-0.030145</td>\n",
       "      <td>-0.333723</td>\n",
       "      <td>0.053301</td>\n",
       "      <td>0.206441</td>\n",
       "      <td>...</td>\n",
       "      <td>-0.159238</td>\n",
       "      <td>-0.469916</td>\n",
       "      <td>-0.059018</td>\n",
       "      <td>-0.773554</td>\n",
       "      <td>0.245962</td>\n",
       "      <td>0.959280</td>\n",
       "      <td>-0.075419</td>\n",
       "      <td>-0.012681</td>\n",
       "      <td>0.77</td>\n",
       "      <td>0</td>\n",
       "    </tr>\n",
       "    <tr>\n",
       "      <td>1</td>\n",
       "      <td>50599.0</td>\n",
       "      <td>-1.131888</td>\n",
       "      <td>-0.643269</td>\n",
       "      <td>1.563501</td>\n",
       "      <td>-0.778753</td>\n",
       "      <td>-1.396825</td>\n",
       "      <td>1.050611</td>\n",
       "      <td>-0.156071</td>\n",
       "      <td>0.334781</td>\n",
       "      <td>-0.893654</td>\n",
       "      <td>...</td>\n",
       "      <td>0.446117</td>\n",
       "      <td>1.670640</td>\n",
       "      <td>0.333726</td>\n",
       "      <td>-0.257075</td>\n",
       "      <td>-0.445065</td>\n",
       "      <td>0.090099</td>\n",
       "      <td>0.383209</td>\n",
       "      <td>0.107440</td>\n",
       "      <td>189.00</td>\n",
       "      <td>0</td>\n",
       "    </tr>\n",
       "    <tr>\n",
       "      <td>2</td>\n",
       "      <td>121802.0</td>\n",
       "      <td>-1.339828</td>\n",
       "      <td>0.622336</td>\n",
       "      <td>0.464747</td>\n",
       "      <td>-2.546672</td>\n",
       "      <td>-0.179661</td>\n",
       "      <td>-0.464931</td>\n",
       "      <td>0.009343</td>\n",
       "      <td>0.368613</td>\n",
       "      <td>-0.724052</td>\n",
       "      <td>...</td>\n",
       "      <td>0.137587</td>\n",
       "      <td>0.055247</td>\n",
       "      <td>-0.556338</td>\n",
       "      <td>-1.039617</td>\n",
       "      <td>0.933901</td>\n",
       "      <td>-0.073119</td>\n",
       "      <td>-0.315587</td>\n",
       "      <td>0.030755</td>\n",
       "      <td>10.00</td>\n",
       "      <td>0</td>\n",
       "    </tr>\n",
       "    <tr>\n",
       "      <td>3</td>\n",
       "      <td>124479.0</td>\n",
       "      <td>-0.539514</td>\n",
       "      <td>1.527861</td>\n",
       "      <td>-1.232152</td>\n",
       "      <td>0.187369</td>\n",
       "      <td>0.012595</td>\n",
       "      <td>-1.011595</td>\n",
       "      <td>0.210122</td>\n",
       "      <td>0.630842</td>\n",
       "      <td>-0.718455</td>\n",
       "      <td>...</td>\n",
       "      <td>0.546462</td>\n",
       "      <td>1.424260</td>\n",
       "      <td>0.005780</td>\n",
       "      <td>-0.035004</td>\n",
       "      <td>-1.071434</td>\n",
       "      <td>-0.177897</td>\n",
       "      <td>-0.064486</td>\n",
       "      <td>0.158808</td>\n",
       "      <td>20.93</td>\n",
       "      <td>0</td>\n",
       "    </tr>\n",
       "    <tr>\n",
       "      <td>4</td>\n",
       "      <td>123987.0</td>\n",
       "      <td>-2.752225</td>\n",
       "      <td>-0.869963</td>\n",
       "      <td>0.703499</td>\n",
       "      <td>-0.945487</td>\n",
       "      <td>1.342470</td>\n",
       "      <td>0.973891</td>\n",
       "      <td>-0.168117</td>\n",
       "      <td>0.599367</td>\n",
       "      <td>0.716579</td>\n",
       "      <td>...</td>\n",
       "      <td>0.048130</td>\n",
       "      <td>0.979358</td>\n",
       "      <td>0.226278</td>\n",
       "      <td>-1.575234</td>\n",
       "      <td>0.066395</td>\n",
       "      <td>0.823880</td>\n",
       "      <td>0.546455</td>\n",
       "      <td>0.987540</td>\n",
       "      <td>92.00</td>\n",
       "      <td>0</td>\n",
       "    </tr>\n",
       "  </tbody>\n",
       "</table>\n",
       "<p>5 rows × 31 columns</p>\n",
       "</div>"
      ],
      "text/plain": [
       "       Time        V1        V2        V3        V4        V5        V6  \\\n",
       "0   53827.0  1.325449 -0.096853  0.136428 -0.454659 -0.155413 -0.030145   \n",
       "1   50599.0 -1.131888 -0.643269  1.563501 -0.778753 -1.396825  1.050611   \n",
       "2  121802.0 -1.339828  0.622336  0.464747 -2.546672 -0.179661 -0.464931   \n",
       "3  124479.0 -0.539514  1.527861 -1.232152  0.187369  0.012595 -1.011595   \n",
       "4  123987.0 -2.752225 -0.869963  0.703499 -0.945487  1.342470  0.973891   \n",
       "\n",
       "         V7        V8        V9  ...       V21       V22       V23       V24  \\\n",
       "0 -0.333723  0.053301  0.206441  ... -0.159238 -0.469916 -0.059018 -0.773554   \n",
       "1 -0.156071  0.334781 -0.893654  ...  0.446117  1.670640  0.333726 -0.257075   \n",
       "2  0.009343  0.368613 -0.724052  ...  0.137587  0.055247 -0.556338 -1.039617   \n",
       "3  0.210122  0.630842 -0.718455  ...  0.546462  1.424260  0.005780 -0.035004   \n",
       "4 -0.168117  0.599367  0.716579  ...  0.048130  0.979358  0.226278 -1.575234   \n",
       "\n",
       "        V25       V26       V27       V28  Amount  Class  \n",
       "0  0.245962  0.959280 -0.075419 -0.012681    0.77      0  \n",
       "1 -0.445065  0.090099  0.383209  0.107440  189.00      0  \n",
       "2  0.933901 -0.073119 -0.315587  0.030755   10.00      0  \n",
       "3 -1.071434 -0.177897 -0.064486  0.158808   20.93      0  \n",
       "4  0.066395  0.823880  0.546455  0.987540   92.00      0  \n",
       "\n",
       "[5 rows x 31 columns]"
      ]
     },
     "execution_count": 5,
     "metadata": {},
     "output_type": "execute_result"
    }
   ],
   "source": [
    "df = pd.read_csv('creditcard.csv', low_memory=False)\n",
    "df = df.sample(frac=1).reset_index(drop=True)\n",
    "df.head()"
   ]
  },
  {
   "cell_type": "code",
   "execution_count": 6,
   "metadata": {
    "colab": {},
    "colab_type": "code",
    "id": "o2PErycoTirZ"
   },
   "outputs": [
    {
     "name": "stdout",
     "output_type": "stream",
     "text": [
      "492\n",
      "284315\n"
     ]
    }
   ],
   "source": [
    "fraud = df.loc[df['Class'] == 1]\n",
    "non_fraud = df.loc[df['Class'] == 0]\n",
    "print(len(fraud))\n",
    "print(len(non_fraud))"
   ]
  },
  {
   "cell_type": "code",
   "execution_count": 13,
   "metadata": {
    "colab": {
     "base_uri": "https://localhost:8080/",
     "height": 130
    },
    "colab_type": "code",
    "id": "ZIa-dVKhUXbx",
    "outputId": "00628dac-8b7b-494f-ff86-66ba5effe0b5"
   },
   "outputs": [
    {
     "data": {
      "text/plain": [
       "<matplotlib.axes._subplots.AxesSubplot at 0x115063a10>"
      ]
     },
     "execution_count": 13,
     "metadata": {},
     "output_type": "execute_result"
    },
    {
     "data": {
      "image/png": "[encoded data removed]",
      "text/plain": [
       "<Figure size 432x288 with 1 Axes>"
      ]
     },
     "metadata": {
      "needs_background": "light"
     },
     "output_type": "display_data"
    }
   ],
   "source": [
    "#visualize\n",
    "sns.scatterplot(x='Class', y='Amount', data=df)"
   ]
  },
  {
   "cell_type": "markdown",
   "metadata": {
    "colab_type": "text",
    "id": "uiDizrNpCwCs"
   },
   "source": [
    "# **Fraud detection\n",
    "\n",
    "\n",
    "*   Explore the data set/ visualize \n",
    "*  Decide which features are important\n",
    "*   Perform machine learning\n",
    "*  Test the model on the testing set.\n",
    "\n",
    "\n",
    "\n",
    "\n",
    "\n"
   ]
  },
  {
   "cell_type": "code",
   "execution_count": 19,
   "metadata": {
    "colab": {},
    "colab_type": "code",
    "id": "DR4UdYIoWV-K"
   },
   "outputs": [],
   "source": [
    "#Time to write the model\n",
    "\n",
    "from sklearn import linear_model\n",
    "from sklearn.model_selection import train_test_split"
   ]
  },
  {
   "cell_type": "code",
   "execution_count": 20,
   "metadata": {
    "colab": {},
    "colab_type": "code",
    "id": "ydf0Td6Meufa"
   },
   "outputs": [],
   "source": [
    "x = df.iloc [:, :-1]\n",
    "y = df['Class']\n",
    "\n",
    "X_train, X_test, Y_train, Y_test = train_test_split(x, y, test_size=0.25)\n",
    "\n"
   ]
  },
  {
   "cell_type": "code",
   "execution_count": 21,
   "metadata": {
    "colab": {},
    "colab_type": "code",
    "id": "87OPxDbShsiz"
   },
   "outputs": [
    {
     "name": "stderr",
     "output_type": "stream",
     "text": [
      "/Library/Frameworks/Python.framework/Versions/3.7/lib/python3.7/site-packages/sklearn/linear_model/logistic.py:432: FutureWarning: Default solver will be changed to 'lbfgs' in 0.22. Specify a solver to silence this warning.\n",
      "  FutureWarning)\n"
     ]
    },
    {
     "name": "stdout",
     "output_type": "stream",
     "text": [
      "Score: <bound method ClassifierMixin.score of LogisticRegression(C=100000.0, class_weight=None, dual=False,\n",
      "                   fit_intercept=True, intercept_scaling=1, l1_ratio=None,\n",
      "                   max_iter=100, multi_class='warn', n_jobs=None, penalty='l2',\n",
      "                   random_state=None, solver='warn', tol=0.0001, verbose=0,\n",
      "                   warm_start=False)> (            Time        V1        V2        V3        V4        V5        V6  \\\n",
      "218239   99472.0 -0.551488  1.391582  0.863777  1.278519 -0.549607  1.421379   \n",
      "130881   39860.0  1.326913 -0.601837  0.159064 -0.471879 -0.929957 -0.832374   \n",
      "141415  133614.0  1.869913 -0.573923 -0.413813  1.268083 -0.659919  0.135353   \n",
      "100372   21068.0  1.162263 -0.368350  1.132327 -0.478254 -1.189775 -0.509490   \n",
      "48711    65889.0 -0.470041  0.984112  1.666275 -0.097331 -0.137320 -0.695411   \n",
      "...          ...       ...       ...       ...       ...       ...       ...   \n",
      "158469   54563.0 -0.887092  0.706838  1.732832 -1.310538  0.021980 -1.095663   \n",
      "231670   72471.0 -1.194792  0.665844  1.699587  0.282377  0.220072 -0.247892   \n",
      "226523  121912.0  1.784138 -1.357231 -1.400376 -0.592069 -0.791175 -1.111950   \n",
      "149352    2204.0 -0.528280  1.297138  1.497918  1.128073  1.015072  0.182683   \n",
      "240719  139579.0 -0.570442  1.137299 -0.601386 -0.458304  0.593223 -0.507870   \n",
      "\n",
      "              V7        V8        V9  ...       V20       V21       V22  \\\n",
      "218239 -2.499969 -5.075481  0.665922  ...  1.192617 -2.841788  0.111134   \n",
      "130881 -0.395820 -0.120168 -0.620950  ... -0.033071  0.196740  0.566441   \n",
      "141415 -0.813531  0.330626  1.321840  ... -0.387966  0.248050  0.722122   \n",
      "100372 -0.776133  0.046649  3.200334  ... -0.240564 -0.116438  0.131110   \n",
      "48711   0.590764  0.081755 -0.630889  ...  0.085281 -0.165743 -0.465288   \n",
      "...          ...       ...       ...  ...       ...       ...       ...   \n",
      "158469  0.823058 -0.285654  0.262424  ...  0.282411 -0.157042 -0.151964   \n",
      "231670  0.360396  0.143145 -0.611726  ... -0.049446 -0.165654 -0.269940   \n",
      "226523  0.007643 -0.431417 -0.437375  ...  0.405020  0.109809 -0.068830   \n",
      "149352  1.317492 -0.331670 -1.169024  ... -0.009357 -0.056918 -0.080751   \n",
      "240719  0.980228  0.359346 -0.514617  ... -0.051681  0.163359  0.487744   \n",
      "\n",
      "             V23       V24       V25       V26       V27       V28  Amount  \n",
      "218239  0.164364 -0.491455  0.498259 -0.708290  0.098982  0.276324   25.00  \n",
      "130881 -0.095551  0.435783  0.629827 -0.054090 -0.002612  0.004386   27.00  \n",
      "141415  0.043755 -0.547640 -0.093221 -0.467629  0.034610 -0.049137   33.95  \n",
      "100372  0.045941  0.341797  0.329679 -0.714150  0.076538  0.028943   11.85  \n",
      "48711  -0.005921  0.509409 -0.259969  0.041951  0.260073  0.112337    2.99  \n",
      "...          ...       ...       ...       ...       ...       ...     ...  \n",
      "158469 -0.046142  0.435569 -0.284301  0.694814  0.200106  0.038361   21.62  \n",
      "231670  0.323357  0.206131 -0.274755  0.187037  0.148472  0.097122    1.79  \n",
      "226523  0.040252  0.016003 -0.150967 -0.349168 -0.065569 -0.022584  226.80  \n",
      "149352 -0.286461 -0.652466 -0.042145 -0.245139 -0.188071 -0.102000   39.05  \n",
      "240719 -0.092854  0.766815 -0.065340 -0.268976  0.258155  0.176732   39.98  \n",
      "\n",
      "[71202 rows x 30 columns], 218239    0\n",
      "130881    0\n",
      "141415    0\n",
      "100372    0\n",
      "48711     0\n",
      "         ..\n",
      "158469    0\n",
      "231670    0\n",
      "226523    0\n",
      "149352    0\n",
      "240719    0\n",
      "Name: Class, Length: 71202, dtype: int64)\n"
     ]
    }
   ],
   "source": [
    "logistic = linear_model.LogisticRegression(C=1e5)\n",
    "logistic.fit(X_train, Y_train)\n",
    "print('Score:', logistic.score, (X_test, Y_test))"
   ]
  },
  {
   "cell_type": "code",
   "execution_count": 23,
   "metadata": {
    "colab": {
     "base_uri": "https://localhost:8080/",
     "height": 34
    },
    "colab_type": "code",
    "id": "swMPpt84im9h",
    "outputId": "883d3953-bafc-46c2-c6e0-c915db072cf4"
   },
   "outputs": [
    {
     "name": "stdout",
     "output_type": "stream",
     "text": [
      "[0 0 0 ... 0 0 0]\n"
     ]
    }
   ],
   "source": [
    "Y_prediction = np.array(logistic.predict(X_test))\n",
    "print(Y_prediction)"
   ]
  },
  {
   "cell_type": "code",
   "execution_count": 24,
   "metadata": {
    "colab": {
     "base_uri": "https://localhost:8080/",
     "height": 34
    },
    "colab_type": "code",
    "id": "Tz7lGXaEkSBQ",
    "outputId": "20cbf2f0-30a9-484c-dcca-5b7091b1f0d2"
   },
   "outputs": [
    {
     "data": {
      "text/plain": [
       "0.9988904806044774"
      ]
     },
     "execution_count": 24,
     "metadata": {},
     "output_type": "execute_result"
    }
   ],
   "source": [
    "from sklearn.metrics import accuracy_score\n",
    "y_predict = logistic.predict(X_test)\n",
    "accuracy_score(y_predict, Y_test)"
   ]
  },
  {
   "cell_type": "code",
   "execution_count": 0,
   "metadata": {
    "colab": {},
    "colab_type": "code",
    "id": "nz9jqaeNcd1I"
   },
   "outputs": [],
   "source": []
  }
 ],
 "metadata": {
  "colab": {
   "name": "Wk3hw_Fraud_detection.ipynb",
   "provenance": [],
   "version": "0.3.2"
  },
  "kernelspec": {
   "display_name": "Python 3",
   "language": "python",
   "name": "python3"
  },
  "language_info": {
   "codemirror_mode": {
    "name": "ipython",
    "version": 3
   },
   "file_extension": ".py",
   "mimetype": "text/x-python",
   "name": "python",
   "nbconvert_exporter": "python",
   "pygments_lexer": "ipython3",
   "version": "3.7.4"
  }
 },
 "nbformat": 4,
 "nbformat_minor": 1
}
